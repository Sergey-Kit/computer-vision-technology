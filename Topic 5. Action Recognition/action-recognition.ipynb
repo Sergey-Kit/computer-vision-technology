{
 "cells": [
  {
   "cell_type": "markdown",
   "metadata": {},
   "source": [
    "# Imports"
   ]
  },
  {
   "cell_type": "code",
   "execution_count": 1,
   "metadata": {},
   "outputs": [
    {
     "name": "stderr",
     "output_type": "stream",
     "text": [
      "/usr/lib/python3/dist-packages/torchvision/io/image.py:13: UserWarning: Failed to load image Python extension: '/usr/lib/python3/dist-packages/torchvision/image.so: undefined symbol: _ZN3c104cuda20CUDACachingAllocator9allocatorE'If you don't plan on using image functionality from `torchvision.io`, you can ignore this warning. Otherwise, there might be something wrong with your environment. Did you have `libjpeg` or `libpng` installed before building `torchvision` from source?\n",
      "  warn(\n"
     ]
    }
   ],
   "source": [
    "import mediapipe as mp\n",
    "\n",
    "import os\n",
    "from pathlib import Path\n",
    "\n",
    "import torch\n",
    "import numpy as np\n",
    "import pandas as pd\n",
    "import torchmetrics\n",
    "import seaborn as sns\n",
    "import torch.utils.data"
   ]
  },
  {
   "cell_type": "code",
   "execution_count": 2,
   "metadata": {},
   "outputs": [
    {
     "name": "stderr",
     "output_type": "stream",
     "text": [
      "/usr/lib/python3/dist-packages/torchvision/transforms/functional_tensor.py:5: UserWarning: The torchvision.transforms.functional_tensor module is deprecated in 0.15 and will be **removed in 0.17**. Please don't rely on it. You probably just need to use APIs in torchvision.transforms.functional or in torchvision.transforms.v2.functional.\n",
      "  warnings.warn(\n"
     ]
    }
   ],
   "source": [
    "import pytorchvideo.data\n",
    "import pytorch_lightning\n",
    "import torch.nn.functional as F\n",
    "from matplotlib import pyplot as plt\n",
    "from tqdm import tqdm\n",
    "from sklearn.metrics import confusion_matrix\n",
    "\n",
    "from pytorchvideo.transforms import (\n",
    "    ApplyTransformToKey,\n",
    "    Normalize,\n",
    "    RandomShortSideScale,\n",
    "    ShortSideScale,\n",
    "    UniformTemporalSubsample,\n",
    ")\n",
    "from torchvision.transforms import (\n",
    "    Compose,\n",
    "    Lambda,\n",
    "    RandomCrop,\n",
    "    CenterCrop,\n",
    "    RandomHorizontalFlip,\n",
    ")"
   ]
  },
  {
   "cell_type": "markdown",
   "metadata": {},
   "source": [
    "# Prepare dataset"
   ]
  },
  {
   "cell_type": "code",
   "execution_count": 3,
   "metadata": {
    "collapsed": false,
    "jupyter": {
     "outputs_hidden": false
    }
   },
   "outputs": [],
   "source": [
    "def move_videos_to_dir(labels: pd.DataFrame, out_dir: Path):\n",
    "    in_dir = Path(\"data\", \"videos\")\n",
    "    for _, label in tqdm(labels.iterrows(), total=len(labels)):\n",
    "        class_name = label[\"label\"]\n",
    "        class_dir = out_dir / class_name\n",
    "        filename = label[\"youtube_id\"] + \".mp4\"\n",
    "        file = in_dir / filename\n",
    "        if file.is_file():\n",
    "            if not class_dir.is_dir():\n",
    "                class_dir.mkdir(parents=True, exist_ok=True)\n",
    "            file.rename(class_dir / filename)"
   ]
  },
  {
   "cell_type": "code",
   "execution_count": 5,
   "metadata": {
    "collapsed": false,
    "jupyter": {
     "outputs_hidden": false
    }
   },
   "outputs": [],
   "source": [
    "csv_filenames = {\n",
    "     \"train\": \"dancing-train.csv\",\n",
    "     \"val\": \"dancing-validate.csv\",\n",
    "}\n",
    "for phase, filename in csv_filenames.items():\n",
    "    labels_df = pd.read_csv(f\"data/{filename}\")\n",
    "    move_videos_to_dir(labels_df, Path(\"data\", \"videos\", phase))"
   ]
  },
  {
   "cell_type": "markdown",
   "metadata": {},
   "source": [
    "# Train models"
   ]
  },
  {
   "cell_type": "markdown",
   "metadata": {},
   "source": [
    "## Init data module"
   ]
  },
  {
   "cell_type": "code",
   "execution_count": 4,
   "metadata": {
    "collapsed": false,
    "jupyter": {
     "outputs_hidden": false
    }
   },
   "outputs": [],
   "source": [
    "class KineticsDataModule(pytorch_lightning.LightningDataModule):\n",
    "\n",
    "  # Dataset configuration\n",
    "  _DATA_PATH = \"./data/videos\"\n",
    "  _CLIP_DURATION = 2  # Duration of sampled clip for each video\n",
    "  _BATCH_SIZE = 4\n",
    "  _NUM_WORKERS = 10  # Number of parallel processes fetching data\n",
    "\n",
    "  def train_dataloader(self):\n",
    "    \"\"\"\n",
    "    Create the Kinetics train partition from the list of video labels\n",
    "    in {self._DATA_PATH}/train\n",
    "    \"\"\"\n",
    "    train_transform = Compose([\n",
    "        ApplyTransformToKey(\n",
    "            key=\"video\",\n",
    "            transform=Compose([\n",
    "                UniformTemporalSubsample(16),\n",
    "                Lambda(lambda x: x / 255.0),\n",
    "                Normalize((0.45, 0.45, 0.45), (0.225, 0.225, 0.225)),\n",
    "                RandomShortSideScale(min_size=256, max_size=320),\n",
    "                RandomCrop(224),\n",
    "                RandomHorizontalFlip(p=0.5),\n",
    "            ]),\n",
    "        ),\n",
    "    ])\n",
    "    train_dataset = pytorchvideo.data.Kinetics(\n",
    "        data_path=os.path.join(self._DATA_PATH, \"train\"),\n",
    "        clip_sampler=pytorchvideo.data.make_clip_sampler(\"random\", self._CLIP_DURATION),\n",
    "        transform=train_transform,\n",
    "        decode_audio=False,\n",
    "    )\n",
    "    return torch.utils.data.DataLoader(\n",
    "        train_dataset,\n",
    "        batch_size=self._BATCH_SIZE,\n",
    "        num_workers=self._NUM_WORKERS,\n",
    "    )\n",
    "\n",
    "  def val_dataloader(self):\n",
    "    \"\"\"\n",
    "    Create the Kinetics validation partition from the list of video labels\n",
    "    in {self._DATA_PATH}/val\n",
    "    \"\"\"\n",
    "    val_transform = Compose([\n",
    "        ApplyTransformToKey(\n",
    "            key=\"video\",\n",
    "            transform=Compose([\n",
    "                UniformTemporalSubsample(16),\n",
    "                Lambda(lambda x: x / 255.0),\n",
    "                Normalize((0.45, 0.45, 0.45), (0.225, 0.225, 0.225)),\n",
    "                ShortSideScale(224),\n",
    "                CenterCrop(224),\n",
    "                RandomHorizontalFlip(p=0.5),\n",
    "            ]),\n",
    "        ),\n",
    "    ])\n",
    "    val_dataset = pytorchvideo.data.Kinetics(\n",
    "        data_path=os.path.join(self._DATA_PATH, \"val\"),\n",
    "        clip_sampler=pytorchvideo.data.make_clip_sampler(\"uniform\", self._CLIP_DURATION),\n",
    "        transform=val_transform,\n",
    "        decode_audio=False,\n",
    "    )\n",
    "    return torch.utils.data.DataLoader(\n",
    "        val_dataset,\n",
    "        batch_size=self._BATCH_SIZE,\n",
    "        num_workers=self._NUM_WORKERS,\n",
    "    )\n",
    "\n",
    "  def get_classes(self):\n",
    "      folder = os.path.join(self._DATA_PATH, \"train\")\n",
    "      return [f for f in os.listdir(folder)]"
   ]
  },
  {
   "cell_type": "markdown",
   "metadata": {},
   "source": [
    "## Init torch lightning trainer"
   ]
  },
  {
   "cell_type": "code",
   "execution_count": 58,
   "metadata": {},
   "outputs": [],
   "source": [
    "import torch\n",
    "import pytorch_lightning as pl\n",
    "import torchmetrics\n",
    "import torch.nn.functional as F\n",
    "from sklearn.metrics import confusion_matrix\n",
    "\n",
    "class VideoClassificationLightningModule(pl.LightningModule):\n",
    "    def __init__(self, classes, model_fn):\n",
    "        super().__init__()\n",
    "        self.model = model_fn()\n",
    "        self.accuracy = torchmetrics.Accuracy(task='multiclass', num_classes=8)\n",
    "        self.f1 = torchmetrics.F1Score(task=\"multiclass\", average=\"weighted\", num_classes=8)\n",
    "        self.classes = classes\n",
    "        self.validation_step_outputs = []\n",
    "        self.validation_step_preds = []\n",
    "        self.validation_step_targets = []\n",
    "\n",
    "    def forward(self, x):\n",
    "        return self.model(x)\n",
    "\n",
    "    def training_step(self, batch, batch_idx):\n",
    "        y_hat = self.model(batch[\"video\"])\n",
    "        loss = F.cross_entropy(y_hat, batch[\"label\"])\n",
    "        return loss\n",
    "\n",
    "    def validation_step(self, batch, batch_idx):\n",
    "        if batch is None or \"video\" not in batch or \"label\" not in batch:\n",
    "            raise ValueError(\"Batch data is incomplete or None.\")\n",
    "        \n",
    "        video_data = batch.get(\"video\")\n",
    "        label_data = batch.get(\"label\")\n",
    "        \n",
    "        if video_data is None or label_data is None:\n",
    "            raise ValueError(\"Video or Label data is None.\")\n",
    "        \n",
    "        preds = self.model(video_data)\n",
    "        loss = F.cross_entropy(preds, label_data)\n",
    "        self.validation_step_outputs.append(loss)\n",
    "        self.validation_step_preds.append(preds)\n",
    "        self.validation_step_targets.append(label_data)\n",
    "    \n",
    "        return {\"loss\": loss, \"preds\": preds, \"target\": label_data}\n",
    "\n",
    "\n",
    "    def on_validation_epoch_end(self):\n",
    "        avg_loss = torch.stack(self.validation_step_outputs).mean()\n",
    "        preds = torch.cat(self.validation_step_preds, dim=0)\n",
    "        targets = torch.cat(self.validation_step_targets, dim=0)\n",
    "        \n",
    "        acc = self.accuracy(preds, targets).item()\n",
    "        f1 = self.f1(preds, targets).item()\n",
    "        \n",
    "        preds_classes = torch.argmax(preds, dim=1).cpu().numpy()\n",
    "        targets = targets.cpu().numpy()\n",
    "        cm = confusion_matrix(targets, preds_classes)\n",
    "\n",
    "        # Print the confusion matrix, average loss, accuracy, and F1 score\n",
    "        print(\"Confusion Matrix:\")\n",
    "        print(cm)\n",
    "        print(f\"Average Loss: {avg_loss}\")\n",
    "        print(f\"Accuracy: {acc}\")\n",
    "        print(f\"F1 Score: {f1}\")\n",
    "\n",
    "        # Clear validation data\n",
    "        self.validation_step_outputs.clear()\n",
    "        self.validation_step_preds.clear()\n",
    "        self.validation_step_targets.clear()\n",
    "\n",
    "    def configure_optimizers(self):\n",
    "        optimizer = torch.optim.Adam(self.parameters(), lr=1e-4)\n",
    "        scheduler = torch.optim.lr_scheduler.ExponentialLR(optimizer, gamma=0.8)\n",
    "        return {\"optimizer\": optimizer, \"lr_scheduler\": scheduler}\n"
   ]
  },
  {
   "cell_type": "markdown",
   "metadata": {},
   "source": [
    "## П.0 - Предобученные модели"
   ]
  },
  {
   "cell_type": "code",
   "execution_count": 6,
   "metadata": {
    "collapsed": false,
    "jupyter": {
     "outputs_hidden": false
    }
   },
   "outputs": [],
   "source": [
    "def make_kinetics_mvit():\n",
    "    model = torch.hub.load('facebookresearch/pytorchvideo', 'mvit_base_16x4', pretrained=True)\n",
    "    model.blocks[:-1].requires_grad_(False)\n",
    "    model.head.proj = torch.nn.Linear(\n",
    "        in_features=model.head.proj.in_features,\n",
    "        out_features=8\n",
    "    )\n",
    "    return model"
   ]
  },
  {
   "cell_type": "code",
   "execution_count": 8,
   "metadata": {},
   "outputs": [],
   "source": [
    "def train(model_fn):\n",
    "    data_module = KineticsDataModule()\n",
    "    classification_module = VideoClassificationLightningModule(\n",
    "        classes=data_module.get_classes(),\n",
    "        model_fn=model_fn,\n",
    "    )\n",
    "    trainer = pytorch_lightning.Trainer(limit_train_batches=50,  # Обрабатывать только первые 200 батчей обучения каждую эпоху\n",
    "                                        limit_val_batches=50,     # Обрабатывать только первые 50 батчей валидации каждую эпоху\n",
    "                                        max_epochs=1,             # Количество эпох\n",
    "                                        accelerator='gpu',\n",
    "                                        # devices=1\n",
    "                                       ) #(gpus=-1, max_epochs=3)\n",
    "    trainer.fit(classification_module, data_module)"
   ]
  },
  {
   "cell_type": "code",
   "execution_count": 38,
   "metadata": {
    "pycharm": {
     "is_executing": true
    }
   },
   "outputs": [
    {
     "name": "stderr",
     "output_type": "stream",
     "text": [
      "Using cache found in /home/user/.cache/torch/hub/facebookresearch_pytorchvideo_main\n",
      "GPU available: True (cuda), used: True\n",
      "TPU available: False, using: 0 TPU cores\n",
      "IPU available: False, using: 0 IPUs\n",
      "HPU available: False, using: 0 HPUs\n",
      "Missing logger folder: /home/user/Desktop/sergey_action_recognition/lightning_logs\n",
      "LOCAL_RANK: 0 - CUDA_VISIBLE_DEVICES: [0]\n",
      "\n",
      "  | Name     | Type                         | Params\n",
      "----------------------------------------------------------\n",
      "0 | model    | MultiscaleVisionTransformers | 36.3 M\n",
      "1 | accuracy | MulticlassAccuracy           | 0     \n",
      "2 | f1       | MulticlassF1Score            | 0     \n",
      "----------------------------------------------------------\n",
      "7.4 M     Trainable params\n",
      "28.9 M    Non-trainable params\n",
      "36.3 M    Total params\n",
      "145.237   Total estimated model params size (MB)\n"
     ]
    },
    {
     "data": {
      "application/vnd.jupyter.widget-view+json": {
       "model_id": "",
       "version_major": 2,
       "version_minor": 0
      },
      "text/plain": [
       "Sanity Checking: 0it [00:00, ?it/s]"
      ]
     },
     "metadata": {},
     "output_type": "display_data"
    },
    {
     "name": "stdout",
     "output_type": "stream",
     "text": [
      "Confusion Matrix:\n",
      "[[0 0 0 0 0 0]\n",
      " [0 0 0 1 2 0]\n",
      " [0 0 0 0 0 0]\n",
      " [0 0 0 0 0 0]\n",
      " [1 0 1 0 0 3]\n",
      " [0 0 0 0 0 0]]\n",
      "Average Loss: 2.2145962715148926\n",
      "Accuracy: 0.0\n",
      "F1 Score: 0.0\n"
     ]
    },
    {
     "name": "stderr",
     "output_type": "stream",
     "text": [
      "/home/user/.local/lib/python3.10/site-packages/pytorch_lightning/trainer/connectors/data_connector.py:224: PossibleUserWarning: The dataloader, train_dataloader, does not have many workers which may be a bottleneck. Consider increasing the value of the `num_workers` argument` (try 20 which is the number of cpus on this machine) in the `DataLoader` init to improve performance.\n",
      "  rank_zero_warn(\n"
     ]
    },
    {
     "data": {
      "application/vnd.jupyter.widget-view+json": {
       "model_id": "6225c7aba275435d8b97036f67492460",
       "version_major": 2,
       "version_minor": 0
      },
      "text/plain": [
       "Training: 0it [00:00, ?it/s]"
      ]
     },
     "metadata": {},
     "output_type": "display_data"
    },
    {
     "data": {
      "application/vnd.jupyter.widget-view+json": {
       "model_id": "",
       "version_major": 2,
       "version_minor": 0
      },
      "text/plain": [
       "Validation: 0it [00:00, ?it/s]"
      ]
     },
     "metadata": {},
     "output_type": "display_data"
    },
    {
     "name": "stdout",
     "output_type": "stream",
     "text": [
      "Confusion Matrix:\n",
      "[[35  1  0  1  0  0  0  0]\n",
      " [ 0 12  1  2  0 11  0 10]\n",
      " [ 5  0  5  0  0  0  0  0]\n",
      " [ 0  0  0 16  1  0  1  0]\n",
      " [ 0  0  1 10  6  0  2  1]\n",
      " [ 4  0  1  2  9 14  4  1]\n",
      " [ 0  1  0  2  2  5  9  5]\n",
      " [ 0  1  0  0  0  4  0 15]]\n",
      "Average Loss: 1.8468093872070312\n",
      "Accuracy: 0.5600000023841858\n",
      "F1 Score: 0.5431165099143982\n"
     ]
    },
    {
     "name": "stderr",
     "output_type": "stream",
     "text": [
      "`Trainer.fit` stopped: `max_epochs=1` reached.\n"
     ]
    }
   ],
   "source": [
    "train(model_fn=make_kinetics_mvit)"
   ]
  },
  {
   "cell_type": "markdown",
   "metadata": {},
   "source": [
    "## П.3 - Построена и обучена модель классификации видео на основе 3D свёрток - 3DCNN"
   ]
  },
  {
   "cell_type": "code",
   "execution_count": 47,
   "metadata": {},
   "outputs": [],
   "source": [
    "import gc\n",
    "import torch\n",
    "\n",
    "gc.collect()\n",
    "torch.cuda.empty_cache()"
   ]
  },
  {
   "cell_type": "code",
   "execution_count": 9,
   "metadata": {},
   "outputs": [],
   "source": [
    "import torch.nn as nn\n",
    "class Simple3DCNN(nn.Module):\n",
    "    def __init__(self, num_classes):\n",
    "        super(Simple3DCNN, self).__init__()\n",
    "        self.conv1 = nn.Conv3d(3, 64, kernel_size=(3, 3, 3), padding=1)\n",
    "        self.pool = nn.MaxPool3d((2, 2, 2))\n",
    "        self.conv2 = nn.Conv3d(64, 128, kernel_size=(3, 3, 3), padding=1)\n",
    "        self.fc1 = nn.Linear(128 * 4 * 56 * 56, 512)\n",
    "        self.fc2 = nn.Linear(512, num_classes)\n",
    "        self.relu = nn.ReLU()\n",
    "\n",
    "    def forward(self, x):\n",
    "        x = self.relu(self.conv1(x))\n",
    "        x = self.pool(x)\n",
    "        x = self.relu(self.conv2(x))\n",
    "        x = self.pool(x)\n",
    "        x = x.view(-1, 128 * 4 * 56 * 56)\n",
    "        x = self.relu(self.fc1(x))\n",
    "        x = self.fc2(x)\n",
    "        return x\n"
   ]
  },
  {
   "cell_type": "code",
   "execution_count": 10,
   "metadata": {},
   "outputs": [],
   "source": [
    "def make_3D_CNN(num_classes):\n",
    "    model = Simple3DCNN(num_classes=num_classes)\n",
    "    return model"
   ]
  },
  {
   "cell_type": "code",
   "execution_count": 11,
   "metadata": {},
   "outputs": [],
   "source": [
    "def train(model_fn, num_classes):\n",
    "    data_module = KineticsDataModule()\n",
    "    classification_module = VideoClassificationLightningModule(\n",
    "        classes=data_module.get_classes(),\n",
    "        model_fn=lambda: model_fn(num_classes=len(data_module.get_classes())),\n",
    "    )\n",
    "    trainer = pytorch_lightning.Trainer(\n",
    "        limit_train_batches=50,\n",
    "        limit_val_batches=50,\n",
    "        max_epochs=2,\n",
    "        accelerator='gpu',\n",
    "    )\n",
    "    trainer.fit(classification_module, data_module)"
   ]
  },
  {
   "cell_type": "code",
   "execution_count": 12,
   "metadata": {
    "pycharm": {
     "is_executing": true
    }
   },
   "outputs": [
    {
     "name": "stderr",
     "output_type": "stream",
     "text": [
      "GPU available: True (cuda), used: True\n",
      "TPU available: False, using: 0 TPU cores\n",
      "IPU available: False, using: 0 IPUs\n",
      "HPU available: False, using: 0 HPUs\n",
      "LOCAL_RANK: 0 - CUDA_VISIBLE_DEVICES: [0]\n",
      "\n",
      "  | Name     | Type               | Params\n",
      "------------------------------------------------\n",
      "0 | model    | Simple3DCNN        | 822 M \n",
      "1 | accuracy | MulticlassAccuracy | 0     \n",
      "2 | f1       | MulticlassF1Score  | 0     \n",
      "------------------------------------------------\n",
      "822 M     Trainable params\n",
      "0         Non-trainable params\n",
      "822 M     Total params\n",
      "3,289.259 Total estimated model params size (MB)\n"
     ]
    },
    {
     "data": {
      "application/vnd.jupyter.widget-view+json": {
       "model_id": "",
       "version_major": 2,
       "version_minor": 0
      },
      "text/plain": [
       "Sanity Checking: 0it [00:00, ?it/s]"
      ]
     },
     "metadata": {},
     "output_type": "display_data"
    },
    {
     "name": "stdout",
     "output_type": "stream",
     "text": [
      "Confusion Matrix:\n",
      "[[0 0 0 4]\n",
      " [0 0 0 0]\n",
      " [0 2 1 1]\n",
      " [0 0 0 0]]\n",
      "Average Loss: 2.0698554515838623\n",
      "Accuracy: 0.125\n",
      "F1 Score: 0.20000000298023224\n"
     ]
    },
    {
     "data": {
      "application/vnd.jupyter.widget-view+json": {
       "model_id": "6adf789776fc4a08bafcfef3564c4b5b",
       "version_major": 2,
       "version_minor": 0
      },
      "text/plain": [
       "Training: 0it [00:00, ?it/s]"
      ]
     },
     "metadata": {},
     "output_type": "display_data"
    },
    {
     "name": "stderr",
     "output_type": "stream",
     "text": [
      "/home/user/.local/lib/python3.10/site-packages/pytorch_lightning/trainer/call.py:48: UserWarning: Detected KeyboardInterrupt, attempting graceful shutdown...\n",
      "  rank_zero_warn(\"Detected KeyboardInterrupt, attempting graceful shutdown...\")\n"
     ]
    }
   ],
   "source": [
    "train(model_fn=make_3D_CNN, num_classes=8)"
   ]
  },
  {
   "cell_type": "markdown",
   "metadata": {},
   "source": [
    "## П.2 - Построена и обучена модель классификации видео на основе Pose Estimation"
   ]
  },
  {
   "cell_type": "code",
   "execution_count": 5,
   "metadata": {},
   "outputs": [],
   "source": [
    "import cv2\n",
    "import torch.nn as nn"
   ]
  },
  {
   "cell_type": "code",
   "execution_count": 59,
   "metadata": {},
   "outputs": [
    {
     "name": "stderr",
     "output_type": "stream",
     "text": [
      "I0000 00:00:1714243611.749220  759359 gl_context_egl.cc:85] Successfully initialized EGL. Major : 1 Minor: 5\n",
      "I0000 00:00:1714243611.801537  762393 gl_context.cc:357] GL version: 3.2 (OpenGL ES 3.2 NVIDIA 535.104.05), renderer: NVIDIA GeForce RTX 3090/PCIe/SSE2\n"
     ]
    }
   ],
   "source": [
    "mp_pose = mp.solutions.pose\n",
    "pose = mp_pose.Pose(static_image_mode=False, model_complexity=1, smooth_landmarks=True)"
   ]
  },
  {
   "cell_type": "code",
   "execution_count": 60,
   "metadata": {},
   "outputs": [
    {
     "name": "stdout",
     "output_type": "stream",
     "text": [
      "Couldn't find program: 'False'\n"
     ]
    }
   ],
   "source": [
    "%%script False\n",
    "def extract_pose_features(video_path):\n",
    "    cap = cv2.VideoCapture(video_path)\n",
    "    pose_features = []\n",
    "    while cap.isOpened():\n",
    "        ret, frame = cap.read()\n",
    "        if not ret:\n",
    "            break\n",
    "        frame_rgb = cv2.cvtColor(frame, cv2.COLOR_BGR2RGB)\n",
    "        results = pose.process(frame_rgb)\n",
    "        if results.pose_landmarks:\n",
    "            # Сохраняем только координаты x, y для упрощения, можно добавить z и visibility, если нужно\n",
    "            frame_landmarks = np.array([[lm.x, lm.y] for lm in results.pose_landmarks.landmark]).flatten()\n",
    "            pose_features.append(frame_landmarks)\n",
    "    cap.release()\n",
    "    return np.array(pose_features)"
   ]
  },
  {
   "cell_type": "code",
   "execution_count": 61,
   "metadata": {},
   "outputs": [],
   "source": [
    "def extract_pose_features(video_path):\n",
    "    cap = cv2.VideoCapture(video_path)\n",
    "    pose_features = []\n",
    "    while cap.isOpened():\n",
    "        ret, frame = cap.read()\n",
    "        if not ret:\n",
    "            break\n",
    "        frame_rgb = cv2.cvtColor(frame, cv2.COLOR_BGR2RGB)\n",
    "        results = pose.process(frame_rgb)\n",
    "        if results.pose_landmarks:\n",
    "            frame_landmarks = np.array([[lm.x, lm.y] for lm in results.pose_landmarks.landmark]).flatten()\n",
    "            pose_features.append(frame_landmarks)\n",
    "        else:\n",
    "            # Обеспечение размерности даже при отсутствии данных\n",
    "            pose_features.append(np.zeros(66))  # Примерное число точек * 2 (x, y)\n",
    "    cap.release()\n",
    "    if not pose_features:\n",
    "        return np.array([np.zeros(66)])  # Возвращает хотя бы один массив нулей\n",
    "    return np.array(pose_features)\n"
   ]
  },
  {
   "cell_type": "code",
   "execution_count": 62,
   "metadata": {},
   "outputs": [],
   "source": [
    "class PoseDataset(torch.utils.data.Dataset):\n",
    "    def __init__(self, data_path, clip_duration, class_to_index):\n",
    "        self.data_path = data_path\n",
    "        self.clip_duration = clip_duration\n",
    "        self.class_to_index = class_to_index\n",
    "        self.videos = []\n",
    "        self.labels = []\n",
    "\n",
    "        for class_dir in os.listdir(data_path):\n",
    "            class_path = os.path.join(data_path, class_dir)\n",
    "            if os.path.isdir(class_path):\n",
    "                for video_file in os.listdir(class_path):\n",
    "                    self.videos.append(os.path.join(class_path, video_file))\n",
    "                    self.labels.append(self.class_to_index[class_dir])\n",
    "\n",
    "    def __getitem__(self, idx):\n",
    "        video_path = self.videos[idx]\n",
    "        label = self.labels[idx]\n",
    "        pose_features = extract_pose_features(video_path)\n",
    "        pose_tensor = torch.tensor(pose_features, dtype=torch.float32)\n",
    "        return pose_tensor, label\n",
    "\n",
    "    def __len__(self):\n",
    "        return len(self.videos)\n"
   ]
  },
  {
   "cell_type": "code",
   "execution_count": 63,
   "metadata": {},
   "outputs": [],
   "source": [
    "class PoseDataModule(pytorch_lightning.LightningDataModule):\n",
    "    _DATA_PATH = \"./data/videos\"\n",
    "    _CLIP_DURATION = 2  # Duration of sampled clip for each video\n",
    "    _BATCH_SIZE = 4\n",
    "    _NUM_WORKERS = 0\n",
    "\n",
    "    def __init__(self):\n",
    "        super().__init__()\n",
    "        self.class_to_index = {class_name: index for index, class_name in enumerate(self.get_classes())}\n",
    "\n",
    "    def get_classes(self):\n",
    "        class_path = os.path.join(self._DATA_PATH, \"train\")\n",
    "        return [d for d in os.listdir(class_path) if os.path.isdir(os.path.join(class_path, d))]\n",
    "\n",
    "    def train_dataloader(self):\n",
    "        # Создаём экземпляр PoseDataset, передавая class_to_index\n",
    "        train_dataset = PoseDataset(\n",
    "            data_path=os.path.join(self._DATA_PATH, \"train\"),\n",
    "            clip_duration=self._CLIP_DURATION,\n",
    "            class_to_index=self.class_to_index  # передаём сюда словарь с индексами классов\n",
    "        )\n",
    "        return torch.utils.data.DataLoader(\n",
    "            train_dataset,\n",
    "            batch_size=self._BATCH_SIZE,\n",
    "            num_workers=self._NUM_WORKERS,\n",
    "            shuffle=True,\n",
    "            collate_fn=self.collate_fn\n",
    "        )\n",
    "\n",
    "    \n",
    "\n",
    "    def val_dataloader(self):\n",
    "        val_dataset = PoseDataset(\n",
    "            data_path=os.path.join(self._DATA_PATH, \"val\"),\n",
    "            clip_duration=self._CLIP_DURATION,\n",
    "            class_to_index=self.class_to_index\n",
    "        )\n",
    "        return torch.utils.data.DataLoader(\n",
    "            val_dataset,\n",
    "            batch_size=self._BATCH_SIZE,\n",
    "            num_workers=self._NUM_WORKERS,\n",
    "            shuffle=True,\n",
    "            collate_fn=self.collate_fn\n",
    "        )\n",
    "    \n",
    "    # def collate_fn(self, batch):\n",
    "    #     videos, labels = zip(*batch)\n",
    "    #     videos = torch.nn.utils.rnn.pad_sequence(videos, batch_first=True, padding_value=0)\n",
    "    #     labels = torch.tensor(labels, dtype=torch.long)  # Обратите внимание на тип long для меток\n",
    "    #     return {\"video\": videos, \"label\": labels}\n",
    "    \n",
    "    def collate_fn(self, batch):\n",
    "        videos, labels = zip(*batch)\n",
    "        \n",
    "        if not videos:\n",
    "            raise ValueError(\"Batch is empty! Check your dataset and DataLoader.\")\n",
    "    \n",
    "        processed_videos = []\n",
    "        for video in videos:\n",
    "            if video is None or len(video) == 0:\n",
    "                continue  # Пропускаем пустые видео\n",
    "            video_tensor = torch.tensor(video, dtype=torch.float32)\n",
    "            processed_videos.append(video_tensor)\n",
    "    \n",
    "        if not processed_videos:\n",
    "            raise ValueError(\"All videos in the batch are empty or None.\")\n",
    "        \n",
    "        videos_tensor = torch.nn.utils.rnn.pad_sequence(processed_videos, batch_first=True, padding_value=0)\n",
    "        labels_tensor = torch.tensor(labels, dtype=torch.long)\n",
    "    \n",
    "        return {\"video\": videos_tensor, \"label\": labels_tensor}\n",
    "\n",
    "            \n",
    "    def get_classes(self):\n",
    "        # Извлечение уникальных имен классов из папок в train\n",
    "        class_path = os.path.join(self._DATA_PATH, \"train\")\n",
    "        return [d for d in os.listdir(class_path) if os.path.isdir(os.path.join(class_path, d))]"
   ]
  },
  {
   "cell_type": "code",
   "execution_count": 64,
   "metadata": {},
   "outputs": [],
   "source": [
    "class LSTMClassifier(nn.Module):\n",
    "    def __init__(self, input_dim, hidden_dim, layer_num, output_dim, dropout_prob=0.5):\n",
    "        super(LSTMClassifier, self).__init__()\n",
    "        self.hidden_dim = hidden_dim\n",
    "        self.layer_num = layer_num\n",
    "        \n",
    "        self.lstm = nn.LSTM(input_dim, hidden_dim, layer_num, batch_first=True, dropout=dropout_prob)\n",
    "        self.fc = nn.Linear(hidden_dim, output_dim)\n",
    "        self.dropout = nn.Dropout(dropout_prob)\n",
    "\n",
    "    def forward(self, x):\n",
    "        h0 = torch.zeros(self.layer_num, x.size(0), self.hidden_dim).to(x.device)\n",
    "        c0 = torch.zeros(self.layer_num, x.size(0), self.hidden_dim).to(x.device)\n",
    "        out, _ = self.lstm(x, (h0, c0))\n",
    "        out = self.dropout(out[:, -1, :])\n",
    "        out = self.fc(out)\n",
    "        return out\n",
    "\n",
    "def make_LSTM_network(input_dim, hidden_dim, layer_num, num_classes, dropout_prob=0.5):\n",
    "    return LSTMClassifier(input_dim, hidden_dim, layer_num, num_classes, dropout_prob)\n"
   ]
  },
  {
   "cell_type": "code",
   "execution_count": 65,
   "metadata": {},
   "outputs": [],
   "source": [
    "def train(model_fn, input_dim, hidden_dim, layer_num, dropout_prob):\n",
    "    data_module = PoseDataModule()\n",
    "    num_classes = len(data_module.get_classes())\n",
    "    classification_module = VideoClassificationLightningModule(\n",
    "        classes=data_module.get_classes(),\n",
    "        model_fn=lambda: model_fn(input_dim=input_dim, hidden_dim=hidden_dim, layer_num=layer_num, num_classes=num_classes, dropout_prob=dropout_prob)\n",
    "    )\n",
    "    trainer = pytorch_lightning.Trainer(\n",
    "        limit_train_batches=10,\n",
    "        limit_val_batches=10,\n",
    "        log_every_n_steps=10,\n",
    "        max_epochs=1,\n",
    "        accelerator='gpu',\n",
    "    )\n",
    "    trainer.fit(classification_module, data_module)"
   ]
  },
  {
   "cell_type": "code",
   "execution_count": 66,
   "metadata": {},
   "outputs": [],
   "source": [
    "def make_LSTM_network():\n",
    "    input_dim = 66  # Для примера, количество координат (33 точки * 2 координаты)\n",
    "    hidden_dim = 128\n",
    "    layer_num = 2\n",
    "    output_dim=8\n",
    "    \n",
    "    model = LSTMClassifier(input_dim, hidden_dim, layer_num, output_dim)\n",
    "    print(model)\n",
    "    \n",
    "    return model"
   ]
  },
  {
   "cell_type": "code",
   "execution_count": 67,
   "metadata": {},
   "outputs": [],
   "source": [
    "def make_LSTM_network(input_dim, hidden_dim, layer_num, num_classes, dropout_prob=0.5):\n",
    "    return LSTMClassifier(input_dim, hidden_dim, layer_num, num_classes, dropout_prob)"
   ]
  },
  {
   "cell_type": "code",
   "execution_count": 68,
   "metadata": {},
   "outputs": [
    {
     "name": "stderr",
     "output_type": "stream",
     "text": [
      "GPU available: True (cuda), used: True\n",
      "TPU available: False, using: 0 TPU cores\n",
      "IPU available: False, using: 0 IPUs\n",
      "HPU available: False, using: 0 HPUs\n",
      "LOCAL_RANK: 0 - CUDA_VISIBLE_DEVICES: [0]\n",
      "\n",
      "  | Name     | Type               | Params\n",
      "------------------------------------------------\n",
      "0 | model    | LSTMClassifier     | 233 K \n",
      "1 | accuracy | MulticlassAccuracy | 0     \n",
      "2 | f1       | MulticlassF1Score  | 0     \n",
      "------------------------------------------------\n",
      "233 K     Trainable params\n",
      "0         Non-trainable params\n",
      "233 K     Total params\n",
      "0.934     Total estimated model params size (MB)\n"
     ]
    },
    {
     "data": {
      "application/vnd.jupyter.widget-view+json": {
       "model_id": "",
       "version_major": 2,
       "version_minor": 0
      },
      "text/plain": [
       "Sanity Checking: 0it [00:00, ?it/s]"
      ]
     },
     "metadata": {},
     "output_type": "display_data"
    },
    {
     "name": "stderr",
     "output_type": "stream",
     "text": [
      "/home/user/.local/lib/python3.10/site-packages/pytorch_lightning/trainer/connectors/data_connector.py:488: PossibleUserWarning: Your `val_dataloader`'s sampler has shuffling enabled, it is strongly recommended that you turn shuffling off for val/test/predict dataloaders.\n",
      "  rank_zero_warn(\n",
      "/home/user/.local/lib/python3.10/site-packages/pytorch_lightning/trainer/connectors/data_connector.py:224: PossibleUserWarning: The dataloader, val_dataloader 0, does not have many workers which may be a bottleneck. Consider increasing the value of the `num_workers` argument` (try 20 which is the number of cpus on this machine) in the `DataLoader` init to improve performance.\n",
      "  rank_zero_warn(\n",
      "/tmp/ipykernel_759359/1979245604.py:62: UserWarning: To copy construct from a tensor, it is recommended to use sourceTensor.clone().detach() or sourceTensor.clone().detach().requires_grad_(True), rather than torch.tensor(sourceTensor).\n",
      "  video_tensor = torch.tensor(video, dtype=torch.float32)\n"
     ]
    },
    {
     "name": "stdout",
     "output_type": "stream",
     "text": [
      "Confusion Matrix:\n",
      "[[0 0 1 0 0 0 0]\n",
      " [0 0 1 0 0 0 0]\n",
      " [0 0 1 0 0 0 0]\n",
      " [0 0 1 0 0 0 0]\n",
      " [0 0 1 0 0 0 0]\n",
      " [0 0 1 0 0 0 0]\n",
      " [0 0 2 0 0 0 0]]\n",
      "Average Loss: 2.0731964111328125\n",
      "Accuracy: 0.125\n",
      "F1 Score: 0.02777777798473835\n"
     ]
    },
    {
     "name": "stderr",
     "output_type": "stream",
     "text": [
      "/home/user/.local/lib/python3.10/site-packages/pytorch_lightning/trainer/connectors/data_connector.py:224: PossibleUserWarning: The dataloader, train_dataloader, does not have many workers which may be a bottleneck. Consider increasing the value of the `num_workers` argument` (try 20 which is the number of cpus on this machine) in the `DataLoader` init to improve performance.\n",
      "  rank_zero_warn(\n"
     ]
    },
    {
     "data": {
      "application/vnd.jupyter.widget-view+json": {
       "model_id": "865ec1ac04fc4f1c93612c4bab35f198",
       "version_major": 2,
       "version_minor": 0
      },
      "text/plain": [
       "Training: 0it [00:00, ?it/s]"
      ]
     },
     "metadata": {},
     "output_type": "display_data"
    },
    {
     "name": "stderr",
     "output_type": "stream",
     "text": [
      "/tmp/ipykernel_759359/1979245604.py:62: UserWarning: To copy construct from a tensor, it is recommended to use sourceTensor.clone().detach() or sourceTensor.clone().detach().requires_grad_(True), rather than torch.tensor(sourceTensor).\n",
      "  video_tensor = torch.tensor(video, dtype=torch.float32)\n"
     ]
    },
    {
     "data": {
      "application/vnd.jupyter.widget-view+json": {
       "model_id": "",
       "version_major": 2,
       "version_minor": 0
      },
      "text/plain": [
       "Validation: 0it [00:00, ?it/s]"
      ]
     },
     "metadata": {},
     "output_type": "display_data"
    },
    {
     "name": "stderr",
     "output_type": "stream",
     "text": [
      "`Trainer.fit` stopped: `max_epochs=1` reached.\n"
     ]
    },
    {
     "name": "stdout",
     "output_type": "stream",
     "text": [
      "Confusion Matrix:\n",
      "[[3 0 5 0 0 0 0 0]\n",
      " [1 0 5 0 0 0 0 0]\n",
      " [1 0 3 0 0 0 0 0]\n",
      " [1 0 3 0 0 0 0 0]\n",
      " [0 0 4 0 0 0 0 0]\n",
      " [0 0 3 0 0 0 0 0]\n",
      " [0 0 3 0 0 0 0 0]\n",
      " [5 0 3 0 0 0 0 0]]\n",
      "Average Loss: 2.0664772987365723\n",
      "Accuracy: 0.15000000596046448\n",
      "F1 Score: 0.08133971691131592\n"
     ]
    }
   ],
   "source": [
    "train(model_fn=make_LSTM_network, input_dim=66, hidden_dim=128, layer_num=2, dropout_prob=0.5)"
   ]
  },
  {
   "cell_type": "code",
   "execution_count": null,
   "metadata": {},
   "outputs": [],
   "source": []
  }
 ],
 "metadata": {
  "kaggle": {
   "accelerator": "gpu",
   "dataSources": [
    {
     "datasetId": 4864522,
     "sourceId": 8209002,
     "sourceType": "datasetVersion"
    },
    {
     "datasetId": 4880830,
     "sourceId": 8230379,
     "sourceType": "datasetVersion"
    }
   ],
   "dockerImageVersionId": 30699,
   "isGpuEnabled": true,
   "isInternetEnabled": true,
   "language": "python",
   "sourceType": "notebook"
  },
  "kernelspec": {
   "display_name": "Python 3 (ipykernel)",
   "language": "python",
   "name": "python3"
  },
  "language_info": {
   "codemirror_mode": {
    "name": "ipython",
    "version": 3
   },
   "file_extension": ".py",
   "mimetype": "text/x-python",
   "name": "python",
   "nbconvert_exporter": "python",
   "pygments_lexer": "ipython3",
   "version": "3.10.12"
  }
 },
 "nbformat": 4,
 "nbformat_minor": 4
}
